{
 "cells": [
  {
   "cell_type": "code",
   "execution_count": 1,
   "metadata": {},
   "outputs": [],
   "source": [
    "import koko\n",
    "import spacy"
   ]
  },
  {
   "cell_type": "code",
   "execution_count": 2,
   "metadata": {},
   "outputs": [],
   "source": [
    "nlp=spacy.load('en_core_web_sm')\n",
    "nlp.max_length = 1300000"
   ]
  },
  {
   "cell_type": "code",
   "execution_count": 3,
   "metadata": {},
   "outputs": [
    {
     "name": "stdout",
     "output_type": "stream",
     "text": [
      "<class 'str'>\n",
      "Parsed query: extract \"happydb.txt\" NPs from \"x\" if\n",
      "\t(\"buy\" x { 0.10 }) or\n",
      "\t(\"purchase\" x { 0.10 })   \n",
      "with threshold 0.00\n",
      "\n",
      "\n",
      "Results:\n",
      "\n",
      "Entity name                    Entity count         Entity score\n",
      "======================================================================\n",
      "me                             3                    0.300000\n",
      "a car                          3                    0.300000\n",
      "it                             3                    0.300000\n",
      "something                      2                    0.200000\n",
      "food                           2                    0.200000\n",
      "new shoes                      2                    0.200000\n",
      "a new car                      2                    0.200000\n",
      "things                         2                    0.200000\n",
      "A NEW BIKE                     2                    0.200000\n",
      "groceries                      2                    0.200000\n",
      "a big cake                     1                    0.100000\n",
      "a cooked whole chicken         1                    0.100000\n",
      "some yogurt                    1                    0.100000\n",
      "anything                       1                    0.100000\n",
      "the vertical smoker            1                    0.100000\n",
      "an item                        1                    0.100000\n",
      "some lunch                     1                    0.100000\n",
      "Firefly                        1                    0.100000\n",
      "a new game                     1                    0.100000\n",
      "a pair                         1                    0.100000\n",
      "tickets                        1                    0.100000\n",
      "the NEW car                    1                    0.100000\n",
      "a dress                        1                    0.100000\n",
      "new smartphone                 1                    0.100000\n",
      "a new vehicle                  1                    0.100000\n",
      "a new cell phone               1                    0.100000\n",
      "a full length mirror           1                    0.100000\n",
      "replacement windows            1                    0.100000\n",
      "a trampoline                   1                    0.100000\n",
      "a new laptop                   1                    0.100000\n",
      "some fabric                    1                    0.100000\n",
      "a Nintendo switch              1                    0.100000\n",
      "study materials                1                    0.100000\n",
      "a new phone                    1                    0.100000\n",
      "a collectible toy              1                    0.100000\n",
      "a 4k tv                        1                    0.100000\n",
      "a house                        1                    0.100000\n",
      "this phone                     1                    0.100000\n",
      "whole stocks                   1                    0.100000\n",
      "supplies                       1                    0.100000\n",
      "a new plant                    1                    0.100000\n",
      "a mini van                     1                    0.100000\n",
      "a video game                   1                    0.100000\n",
      "a new mobile phone             1                    0.100000\n",
      "a fire tv                      1                    0.100000\n",
      "junk food                      1                    0.100000\n",
      "a team                         1                    0.100000\n",
      "any sale items                 1                    0.100000\n",
      "300 tickets                    1                    0.100000\n",
      "my husband                     1                    0.100000\n",
      "a new house                    1                    0.100000\n",
      "the house                      1                    0.100000\n",
      "some tobacco                   1                    0.100000\n",
      "a scratchcard                  1                    0.100000\n",
      "THIS GIFT                      1                    0.100000\n",
      "a Nintendo Switch system       1                    0.100000\n",
      "a laptop                       1                    0.100000\n",
      "good quality food              1                    0.100000\n",
      "a bottle                       1                    0.100000\n",
      "two transformers               1                    0.100000\n",
      "her new shoes                  1                    0.100000\n",
      "a great house                  1                    0.100000\n",
      "nice gift                      1                    0.100000\n",
      "dinner                         1                    0.100000\n",
      "their own dinner               1                    0.100000\n",
      "a battery pack                 1                    0.100000\n",
      "some items                     1                    0.100000\n",
      "a two wheeler                  1                    0.100000\n",
      "some things                    1                    0.100000\n",
      "useless stuff                  1                    0.100000\n",
      "a new charcoal grill           1                    0.100000\n",
      "a book                         1                    0.100000\n",
      "fruits                         1                    0.100000\n",
      "everyone                       1                    0.100000\n",
      "one new phone                  1                    0.100000\n",
      "us                             1                    0.100000\n",
      "a new thing                    1                    0.100000\n",
      "A COW                          1                    0.100000\n",
      "this car                       1                    0.100000\n",
      "some plants                    1                    0.100000\n",
      "that rose plant                1                    0.100000\n",
      "a carton                       1                    0.100000\n",
      "a new good saree               1                    0.100000\n",
      "a new things                   1                    0.100000\n",
      "a new T-Shirt                  1                    0.100000\n",
      "Kpop Concert ticket            1                    0.100000\n",
      "a bike                         1                    0.100000\n"
     ]
    }
   ],
   "source": [
    "koko.run('purchase_v1.koko',doc_parser='spacy')"
   ]
  },
  {
   "cell_type": "code",
   "execution_count": null,
   "metadata": {},
   "outputs": [],
   "source": []
  }
 ],
 "metadata": {
  "kernelspec": {
   "display_name": "Python 3",
   "language": "python",
   "name": "python3"
  },
  "language_info": {
   "codemirror_mode": {
    "name": "ipython",
    "version": 3
   },
   "file_extension": ".py",
   "mimetype": "text/x-python",
   "name": "python",
   "nbconvert_exporter": "python",
   "pygments_lexer": "ipython3",
   "version": "3.7.6"
  }
 },
 "nbformat": 4,
 "nbformat_minor": 4
}
